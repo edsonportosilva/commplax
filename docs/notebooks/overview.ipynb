{
 "cells": [
  {
   "cell_type": "markdown",
   "id": "00e0215c-1e02-4e68-82d0-343a1b2833e8",
   "metadata": {},
   "source": [
    "# Overview\n",
    "\n",
    "## What is commplax\n",
    "In short, commplax is a DSP library for optical communications written in Python, which has the following features:\n",
    "- differentiable\n",
    "- extremely fast by accelerations\n",
    "- shipped with well-implemented operations and algorithms\n",
    "- easy integration with state-of-the art research ideas\n",
    "\n",
    "Some basic experience in Python, [Numpy](https://numpy.org/) and [Jax](https://github.com/google/jax) to get started. are required to get started. There are many online references. Here are some that cover the basics\n",
    "\n",
    "- [NumPy quickstart](https://numpy.org/doc/stable/user/quickstart.html)\n",
    "- [NumPy for MATLAB users](https://numpy.org/doc/stable/user/numpy-for-matlab-users.html)\n",
    "- [JAX 101](https://jax.readthedocs.io/en/latest/jax-101/index.html)\n",
    "- [JAX for the Impatient](https://flax.readthedocs.io/en/latest/notebooks/jax_for_the_impatient.html)\n",
    "\n",
    "## How can commplax help you\n",
    "Commplax is made for researchers in optical communications by those who have been through the learning process. Since its very begining, commplax has been designed for both researchers and students. We hope we could help new students out since we understand most of the struggles to bridge the gaps from typical Matlab simulations to Python/Jax/Commplax\n",
    "\n",
    "The traditional way of learning optical communications DSP is from bottom to top. Typically, one starts from learning the optics and communication theories in the textbooks. The next steps are self-learning and coding some known algorithms from published papers, lab instruments, and programming their toolbox. At certain point, one becomes knowledgable in some part of the DSP chain but still likely needs to reach out to his peers to help on the rest. But as time goes on, there will be more DSP algorithms to learn before one can propose something new for publishing. In addition, not just the papers but the way to present/reproduce the results should also evolve with time. In some senses, it is meaningful to not \"just wander around looking at the stars but also look at the ground to fix the pothole before anyone falls in\".\n",
    "\n",
    "It is worthy to point out that research patterns in optical communications is in fact similar to that of machine learning in that both need datasets and codes for benchmarking. In ML research nowadays, one often starts with numerous public tutorials with example data and codes, there are public competitions over a specific dataset to source optimal solutions. Such accesibility may in turn help the whole community grow and expand faster.\n",
    "\n",
    "As part of our preliminary efforts, we also open-sourced datasets on top of commplax to complete this dataset-codes loop. Users can run commplax with these datasets in their web browser through interactive notebooks we prepared and can build their new DSP from this platform for benchmarking.\n",
    "\n",
    "## The current status and roadmap\n",
    "Commplax is a open-sourced research project launched in Spring 2021 and has since been in active development. Most APIs are stable now but some documentations are still lacking.\n",
    "\n",
    "- [x] core Jax-backed operations (Conv., Corr., FrFT, OverlapAdd,...)\n",
    "- [x] common communication sources (random source, symbol de/encoding, pulse shaping...)\n",
    "- [x] common equalizers and algorithms (CMA, LMS, Kalman...)\n",
    "- [x] layer abstractions and gradient propagation of each algorithms/equalizers\n",
    "- [x] Complex value compatible optimizers\n",
    "- [x] online datasets with with programmable access\n",
    "- [ ] synchronized documentation\n",
    "- [ ] examples covering most common use cases\n",
    "- [ ] integrating ML library, composing commplax's layers and layers from other lib like Flax\n",
    "- [ ] transmission channel models\n",
    "- [ ] incoperating implicit differentiation to support broader optimizations (with Reinforcement learning)\n",
    "\n",
    "## What does the workflow looks like\n",
    "work in progress\n",
    "\n",
    "## How to use this document\n",
    "The documentation is lagging much behind the codebase at this moment, we are actively building the [Tutorial](https://commplax.readthedocs.io/en/latest/tutorial/index.html), you may refer to the [Public APIs](https://commplax.readthedocs.io/en/latest/commplax.html) for interface details."
   ]
  }
 ],
 "metadata": {
  "kernelspec": {
   "display_name": "commplax",
   "language": "python",
   "name": "python3"
  },
  "language_info": {
   "codemirror_mode": {
    "name": "ipython",
    "version": 3
   },
   "file_extension": ".py",
   "mimetype": "text/x-python",
   "name": "python",
   "nbconvert_exporter": "python",
   "pygments_lexer": "ipython3",
   "version": "3.8.11"
  }
 },
 "nbformat": 4,
 "nbformat_minor": 5
}
